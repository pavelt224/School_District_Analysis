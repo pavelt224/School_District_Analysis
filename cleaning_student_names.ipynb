{
 "cells": [
  {
   "cell_type": "code",
   "execution_count": null,
   "id": "60f97c6d",
   "metadata": {},
   "outputs": [],
   "source": [
    "import pandas as pd"
   ]
  },
  {
   "cell_type": "code",
   "execution_count": null,
   "id": "7fe0a948",
   "metadata": {},
   "outputs": [],
   "source": [
    "student_data_to_load = \"Resources/students_complete.csv\"\n",
    "\n",
    "student_data_df = pd.read_csv(student_data_to_load)\n",
    "student_data_df.head()"
   ]
  },
  {
   "cell_type": "code",
   "execution_count": null,
   "id": "5c06cf88",
   "metadata": {},
   "outputs": [],
   "source": [
    "# Put the student names in a list.\n",
    "student_names = student_data_df[\"student_name\"].tolist()\n",
    "student_names"
   ]
  },
  {
   "cell_type": "code",
   "execution_count": null,
   "id": "16e2836c",
   "metadata": {},
   "outputs": [],
   "source": [
    "# Split the student name and determine the length of the split name.\n",
    "for name in student_names:\n",
    "    print(name.split(), len(name.split()))"
   ]
  },
  {
   "cell_type": "code",
   "execution_count": null,
   "id": "85627ca7",
   "metadata": {},
   "outputs": [],
   "source": [
    "# Create a new list and use it for the for loop to iterate through the list.\n",
    "students_to_fix = []\n",
    "\n",
    "# Use an if statement to check the length of the name.\n",
    "# If the name is greater than or equal to \"3\", add the name to the list.\n",
    "\n",
    "for name in student_names:\n",
    "    if len(name.split()) >= 3:\n",
    "        students_to_fix.append(name)\n",
    "\n",
    "# Get the length of the students whose names are greater than or equal to \"3\".\n",
    "len(students_to_fix)"
   ]
  },
  {
   "cell_type": "code",
   "execution_count": null,
   "id": "79a95899",
   "metadata": {},
   "outputs": [],
   "source": [
    "print(students_to_fix)"
   ]
  },
  {
   "cell_type": "code",
   "execution_count": null,
   "id": "7d7d387d",
   "metadata": {},
   "outputs": [],
   "source": [
    "# Add the prefixes less than or equal to 4 to a new list.\n",
    "prefixes = []\n",
    "for name in students_to_fix:\n",
    "    if len(name.split()[0]) <= 4:\n",
    "        prefixes.append(name.split()[0])\n",
    "\n",
    "print(prefixes)"
   ]
  },
  {
   "cell_type": "code",
   "execution_count": null,
   "id": "f81e8de0",
   "metadata": {},
   "outputs": [],
   "source": [
    "# Add the suffixes less than or equal to 3 to a new list.\n",
    "suffixes = []\n",
    "for name in students_to_fix:\n",
    "    if len(name.split()[-1]) <= 3:\n",
    "        suffixes.append(name.split()[-1])\n",
    "\n",
    "print(suffixes)"
   ]
  },
  {
   "cell_type": "code",
   "execution_count": null,
   "id": "e508b95b",
   "metadata": {},
   "outputs": [],
   "source": [
    "# Get the unique items in the \"prefixes\" list.\n",
    "set(prefixes)"
   ]
  },
  {
   "cell_type": "code",
   "execution_count": null,
   "id": "a12f50d5",
   "metadata": {},
   "outputs": [],
   "source": [
    "# Get the unique items in the \"suffixes\" list.\n",
    "set(suffixes)"
   ]
  },
  {
   "cell_type": "code",
   "execution_count": null,
   "id": "a8d5b0c7",
   "metadata": {},
   "outputs": [],
   "source": [
    "# Strip \"Mrs.\" from the student names\n",
    "for name in students_to_fix:\n",
    "    print(name.strip(\"Mrs.\"))"
   ]
  },
  {
   "cell_type": "code",
   "execution_count": null,
   "id": "97127697",
   "metadata": {},
   "outputs": [],
   "source": [
    "# Replace \"Dr.\" with an empty string.\n",
    "name = \"Dr. Linda Santiago\"\n",
    "name.replace(\"Dr.\", \"\")"
   ]
  },
  {
   "cell_type": "code",
   "execution_count": null,
   "id": "bdd6db92",
   "metadata": {},
   "outputs": [],
   "source": [
    "name.replace(\"Dr.\", \"\")"
   ]
  },
  {
   "cell_type": "code",
   "execution_count": null,
   "id": "090e4806",
   "metadata": {},
   "outputs": [],
   "source": [
    "name.replace(\"Dr. \", \"\")"
   ]
  },
  {
   "cell_type": "code",
   "execution_count": null,
   "id": "c816e25b",
   "metadata": {},
   "outputs": [],
   "source": []
  }
 ],
 "metadata": {
  "kernelspec": {
   "display_name": "PythonData",
   "language": "python",
   "name": "pythondata"
  },
  "language_info": {
   "codemirror_mode": {
    "name": "ipython",
    "version": 3
   },
   "file_extension": ".py",
   "mimetype": "text/x-python",
   "name": "python",
   "nbconvert_exporter": "python",
   "pygments_lexer": "ipython3",
   "version": "3.7.11"
  }
 },
 "nbformat": 4,
 "nbformat_minor": 5
}
